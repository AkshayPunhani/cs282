{
 "cells": [
  {
   "cell_type": "code",
   "execution_count": 189,
   "metadata": {},
   "outputs": [],
   "source": [
    "import numpy as np\n",
    "import tensorflow as tf\n",
    "import pandas as pd\n",
    "\n",
    "from sklearn.model_selection import train_test_split\n",
    "\n",
    "\n",
    "from keras.models import Sequential\n",
    "from keras.layers import Dense\n",
    "from keras.wrappers.scikit_learn import KerasClassifier\n",
    "from keras.utils import np_utils\n",
    "from sklearn.model_selection import cross_val_score\n",
    "from sklearn.model_selection import KFold\n",
    "from sklearn.preprocessing import LabelEncoder\n",
    "from sklearn.pipeline import Pipeline\n",
    "from keras.layers import Dropout\n",
    "from keras.callbacks import TensorBoard\n",
    "from keras.models import load_model\n",
    "\n",
    "biden = pd.read_csv(\"dataset/biden/real/\"+\"output.csv\")\n",
    "justin = pd.read_csv(\"dataset/justin/real/\"+\"output.csv\")\n",
    "#may = pd.read_csv(\"dataset/may/real/\"+\"output.csv\")\n",
    "pelosi = pd.read_csv(\"dataset/pelosi/real/\"+\"output.csv\")\n",
    "michelle = pd.read_csv(\"dataset/michelle/real/\"+\"output.csv\")\n",
    "\n",
    "biden['label'] = 0\n",
    "justin['label'] = 1\n",
    "#may['label'] = 'may'\n",
    "pelosi['label'] = 2\n",
    "michelle['label'] = 3\n",
    "\n",
    "df_merged = pd.concat([biden, justin, michelle, pelosi])\n",
    "\n",
    "\n",
    "Y = df_merged['label']\n",
    "X = df_merged.drop('label', axis =1)"
   ]
  },
  {
   "cell_type": "code",
   "execution_count": 190,
   "metadata": {},
   "outputs": [],
   "source": [
    "X_new= X.iloc[0:610250]"
   ]
  },
  {
   "cell_type": "code",
   "execution_count": 191,
   "metadata": {},
   "outputs": [
    {
     "name": "stderr",
     "output_type": "stream",
     "text": [
      "/anaconda3/lib/python3.6/site-packages/sklearn/preprocessing/data.py:645: DataConversionWarning: Data with input dtype int64, float64 were all converted to float64 by StandardScaler.\n",
      "  return self.partial_fit(X, y)\n",
      "/anaconda3/lib/python3.6/site-packages/sklearn/base.py:464: DataConversionWarning: Data with input dtype int64, float64 were all converted to float64 by StandardScaler.\n",
      "  return self.fit(X, **fit_params).transform(X)\n"
     ]
    }
   ],
   "source": [
    "from sklearn.preprocessing import StandardScaler\n",
    "X_new = StandardScaler().fit_transform(X_new)\n",
    "\n",
    "norm_X = np.array(X_new)"
   ]
  },
  {
   "cell_type": "code",
   "execution_count": 192,
   "metadata": {},
   "outputs": [],
   "source": [
    "timesteps = 50\n",
    "data_dim = 426\n",
    "num_classes = 4"
   ]
  },
  {
   "cell_type": "code",
   "execution_count": 193,
   "metadata": {},
   "outputs": [],
   "source": [
    "updated_X = np.reshape(norm_X, (int(norm_X.shape[0]/timesteps), 50, 426))"
   ]
  },
  {
   "cell_type": "code",
   "execution_count": 194,
   "metadata": {},
   "outputs": [
    {
     "data": {
      "text/plain": [
       "(12205, 50, 426)"
      ]
     },
     "execution_count": 194,
     "metadata": {},
     "output_type": "execute_result"
    }
   ],
   "source": [
    "updated_X.shape"
   ]
  },
  {
   "cell_type": "code",
   "execution_count": 197,
   "metadata": {},
   "outputs": [
    {
     "ename": "AttributeError",
     "evalue": "'numpy.ndarray' object has no attribute 'iloc'",
     "output_type": "error",
     "traceback": [
      "\u001b[0;31m---------------------------------------------------------------------------\u001b[0m",
      "\u001b[0;31mAttributeError\u001b[0m                            Traceback (most recent call last)",
      "\u001b[0;32m<ipython-input-197-ce8eddcc1e95>\u001b[0m in \u001b[0;36m<module>\u001b[0;34m()\u001b[0m\n\u001b[0;32m----> 1\u001b[0;31m \u001b[0mY\u001b[0m \u001b[0;34m=\u001b[0m \u001b[0mnp\u001b[0m\u001b[0;34m.\u001b[0m\u001b[0marray\u001b[0m\u001b[0;34m(\u001b[0m\u001b[0mY\u001b[0m\u001b[0;34m.\u001b[0m\u001b[0miloc\u001b[0m\u001b[0;34m[\u001b[0m\u001b[0;36m0\u001b[0m\u001b[0;34m:\u001b[0m\u001b[0;36m610250\u001b[0m\u001b[0;34m]\u001b[0m\u001b[0;34m)\u001b[0m\u001b[0;34m\u001b[0m\u001b[0m\n\u001b[0m",
      "\u001b[0;31mAttributeError\u001b[0m: 'numpy.ndarray' object has no attribute 'iloc'"
     ]
    }
   ],
   "source": [
    "Y = np.array(Y.iloc[0:610250])"
   ]
  },
  {
   "cell_type": "code",
   "execution_count": 203,
   "metadata": {},
   "outputs": [],
   "source": [
    "i=0\n",
    "count =0\n",
    "target = []\n",
    "for i in range(0,610249, 50):\n",
    "    z = np.argmax(np.bincount(Y[i:i+50]))\n",
    "    target.append(z)\n",
    "    count = count+1"
   ]
  },
  {
   "cell_type": "code",
   "execution_count": 204,
   "metadata": {},
   "outputs": [],
   "source": [
    "target = np.array(target)"
   ]
  },
  {
   "cell_type": "code",
   "execution_count": 206,
   "metadata": {},
   "outputs": [],
   "source": [
    "encoder = LabelEncoder()\n",
    "encoder.fit(target)\n",
    "encoded_Y = encoder.transform(target)\n",
    "# convert integers to dummy variables (i.e. one hot encoded)\n",
    "dummy_y = np_utils.to_categorical(encoded_Y)"
   ]
  },
  {
   "cell_type": "code",
   "execution_count": 207,
   "metadata": {},
   "outputs": [
    {
     "data": {
      "text/plain": [
       "array([[1., 0., 0., 0.],\n",
       "       [1., 0., 0., 0.],\n",
       "       [1., 0., 0., 0.],\n",
       "       ...,\n",
       "       [0., 0., 1., 0.],\n",
       "       [0., 0., 1., 0.],\n",
       "       [0., 0., 1., 0.]], dtype=float32)"
      ]
     },
     "execution_count": 207,
     "metadata": {},
     "output_type": "execute_result"
    }
   ],
   "source": [
    "dummy_y"
   ]
  },
  {
   "cell_type": "code",
   "execution_count": 208,
   "metadata": {},
   "outputs": [],
   "source": [
    "from keras.models import Sequential\n",
    "from keras.layers import Dense\n",
    "from keras.wrappers.scikit_learn import KerasClassifier\n",
    "from keras.utils import np_utils\n",
    "from sklearn.model_selection import cross_val_score\n",
    "from sklearn.model_selection import KFold\n",
    "from sklearn.preprocessing import LabelEncoder\n",
    "from sklearn.pipeline import Pipeline\n",
    "from keras.layers import Dropout\n",
    "from keras.callbacks import TensorBoard\n",
    "from keras.models import load_model\n",
    "from keras.layers import LSTM, Dense"
   ]
  },
  {
   "cell_type": "code",
   "execution_count": 209,
   "metadata": {},
   "outputs": [],
   "source": [
    "# expected input data shape: (batch_size, timesteps, data_dim)\n",
    "model = Sequential()\n",
    "model.add(LSTM(426, return_sequences=True,\n",
    "               input_shape=(timesteps, data_dim)))  # returns a sequence of vectors of dimension 426\n",
    "model.add(LSTM(200, return_sequences=True))  # returns a sequence of vectors of dimension 200\n",
    "model.add(LSTM(32))  # return a single vector of dimension 32\n",
    "model.add(Dense(4, activation='softmax'))"
   ]
  },
  {
   "cell_type": "code",
   "execution_count": 210,
   "metadata": {},
   "outputs": [],
   "source": [
    "model.compile(loss='categorical_crossentropy',\n",
    "              optimizer='rmsprop',\n",
    "              metrics=['accuracy'])"
   ]
  },
  {
   "cell_type": "code",
   "execution_count": 211,
   "metadata": {},
   "outputs": [
    {
     "name": "stdout",
     "output_type": "stream",
     "text": [
      "_________________________________________________________________\n",
      "Layer (type)                 Output Shape              Param #   \n",
      "=================================================================\n",
      "lstm_37 (LSTM)               (None, 50, 426)           1453512   \n",
      "_________________________________________________________________\n",
      "lstm_38 (LSTM)               (None, 50, 200)           501600    \n",
      "_________________________________________________________________\n",
      "lstm_39 (LSTM)               (None, 32)                29824     \n",
      "_________________________________________________________________\n",
      "dense_13 (Dense)             (None, 4)                 132       \n",
      "=================================================================\n",
      "Total params: 1,985,068\n",
      "Trainable params: 1,985,068\n",
      "Non-trainable params: 0\n",
      "_________________________________________________________________\n"
     ]
    }
   ],
   "source": [
    "model.summary()"
   ]
  },
  {
   "cell_type": "code",
   "execution_count": 223,
   "metadata": {},
   "outputs": [],
   "source": [
    "X_train, X_test, y_train, y_test = train_test_split(updated_X, dummy_y, test_size=0.33, random_state=42)"
   ]
  },
  {
   "cell_type": "code",
   "execution_count": 224,
   "metadata": {},
   "outputs": [
    {
     "name": "stdout",
     "output_type": "stream",
     "text": [
      "Train on 5723 samples, validate on 2454 samples\n",
      "Epoch 1/3\n",
      "5723/5723 [==============================] - 149s 26ms/step - loss: 0.1462 - acc: 0.9614 - val_loss: 0.0666 - val_acc: 0.9772\n",
      "Epoch 2/3\n",
      "5723/5723 [==============================] - 102s 18ms/step - loss: 0.0437 - acc: 0.9892 - val_loss: 0.0160 - val_acc: 0.9955\n",
      "Epoch 3/3\n",
      "5723/5723 [==============================] - 102s 18ms/step - loss: 0.0196 - acc: 0.9942 - val_loss: 0.0047 - val_acc: 0.9992\n"
     ]
    },
    {
     "data": {
      "text/plain": [
       "<keras.callbacks.History at 0x143ea7208>"
      ]
     },
     "execution_count": 224,
     "metadata": {},
     "output_type": "execute_result"
    }
   ],
   "source": [
    "\n",
    "tensorboard = TensorBoard(log_dir='./logs', histogram_freq=0,\n",
    "                          write_graph=True, write_images=False)\n",
    "model.fit(X_train, y_train,\n",
    "          batch_size=64, validation_split=0.3, shuffle = True,  epochs=3, callbacks=[tensorboard])"
   ]
  },
  {
   "cell_type": "code",
   "execution_count": 225,
   "metadata": {},
   "outputs": [],
   "source": [
    "model.save(\"lstm_facial.h5\")\n",
    "del model\n",
    "\n",
    "model = load_model(\"lstm_facial.h5\")"
   ]
  },
  {
   "cell_type": "code",
   "execution_count": 239,
   "metadata": {},
   "outputs": [],
   "source": [
    "y_pred = model.predict_classes(X_test)"
   ]
  },
  {
   "cell_type": "code",
   "execution_count": 253,
   "metadata": {},
   "outputs": [
    {
     "data": {
      "text/plain": [
       "(4028, 50, 426)"
      ]
     },
     "execution_count": 253,
     "metadata": {},
     "output_type": "execute_result"
    }
   ],
   "source": [
    "X_test.shape"
   ]
  },
  {
   "cell_type": "code",
   "execution_count": 245,
   "metadata": {},
   "outputs": [
    {
     "data": {
      "text/plain": [
       "4028"
      ]
     },
     "execution_count": 245,
     "metadata": {},
     "output_type": "execute_result"
    }
   ],
   "source": [
    "len(y_pred)"
   ]
  },
  {
   "cell_type": "code",
   "execution_count": 238,
   "metadata": {},
   "outputs": [
    {
     "data": {
      "text/plain": [
       "4028"
      ]
     },
     "execution_count": 238,
     "metadata": {},
     "output_type": "execute_result"
    }
   ],
   "source": [
    "len(y_test)"
   ]
  },
  {
   "cell_type": "code",
   "execution_count": 242,
   "metadata": {},
   "outputs": [],
   "source": [
    "\n",
    "#for decoding the one hot encoded input\n",
    "lst = []\n",
    "def decode(datum):\n",
    "    return np.argmax(datum)\n",
    "\n",
    "for i in range(y_test.shape[0]):\n",
    "    lst.append(decode(y_test[i]))"
   ]
  },
  {
   "cell_type": "code",
   "execution_count": 251,
   "metadata": {},
   "outputs": [
    {
     "name": "stdout",
     "output_type": "stream",
     "text": [
      "0.9985104270109235\n"
     ]
    }
   ],
   "source": [
    "accuracy = (y_pred == np.array(lst)).mean()\n",
    "print(accuracy)"
   ]
  },
  {
   "cell_type": "code",
   "execution_count": 221,
   "metadata": {},
   "outputs": [
    {
     "data": {
      "text/plain": [
       "['frame',\n",
       " ' face_id',\n",
       " ' timestamp',\n",
       " ' confidence',\n",
       " ' success',\n",
       " ' pose_Tx',\n",
       " ' pose_Ty',\n",
       " ' pose_Tz',\n",
       " ' pose_Rx',\n",
       " ' pose_Ry',\n",
       " ' pose_Rz',\n",
       " ' x_0',\n",
       " ' x_1',\n",
       " ' x_2',\n",
       " ' x_3',\n",
       " ' x_4',\n",
       " ' x_5',\n",
       " ' x_6',\n",
       " ' x_7',\n",
       " ' x_8',\n",
       " ' x_9',\n",
       " ' x_10',\n",
       " ' x_11',\n",
       " ' x_12',\n",
       " ' x_13',\n",
       " ' x_14',\n",
       " ' x_15',\n",
       " ' x_16',\n",
       " ' x_17',\n",
       " ' x_18',\n",
       " ' x_19',\n",
       " ' x_20',\n",
       " ' x_21',\n",
       " ' x_22',\n",
       " ' x_23',\n",
       " ' x_24',\n",
       " ' x_25',\n",
       " ' x_26',\n",
       " ' x_27',\n",
       " ' x_28',\n",
       " ' x_29',\n",
       " ' x_30',\n",
       " ' x_31',\n",
       " ' x_32',\n",
       " ' x_33',\n",
       " ' x_34',\n",
       " ' x_35',\n",
       " ' x_36',\n",
       " ' x_37',\n",
       " ' x_38',\n",
       " ' x_39',\n",
       " ' x_40',\n",
       " ' x_41',\n",
       " ' x_42',\n",
       " ' x_43',\n",
       " ' x_44',\n",
       " ' x_45',\n",
       " ' x_46',\n",
       " ' x_47',\n",
       " ' x_48',\n",
       " ' x_49',\n",
       " ' x_50',\n",
       " ' x_51',\n",
       " ' x_52',\n",
       " ' x_53',\n",
       " ' x_54',\n",
       " ' x_55',\n",
       " ' x_56',\n",
       " ' x_57',\n",
       " ' x_58',\n",
       " ' x_59',\n",
       " ' x_60',\n",
       " ' x_61',\n",
       " ' x_62',\n",
       " ' x_63',\n",
       " ' x_64',\n",
       " ' x_65',\n",
       " ' x_66',\n",
       " ' x_67',\n",
       " ' y_0',\n",
       " ' y_1',\n",
       " ' y_2',\n",
       " ' y_3',\n",
       " ' y_4',\n",
       " ' y_5',\n",
       " ' y_6',\n",
       " ' y_7',\n",
       " ' y_8',\n",
       " ' y_9',\n",
       " ' y_10',\n",
       " ' y_11',\n",
       " ' y_12',\n",
       " ' y_13',\n",
       " ' y_14',\n",
       " ' y_15',\n",
       " ' y_16',\n",
       " ' y_17',\n",
       " ' y_18',\n",
       " ' y_19',\n",
       " ' y_20',\n",
       " ' y_21',\n",
       " ' y_22',\n",
       " ' y_23',\n",
       " ' y_24',\n",
       " ' y_25',\n",
       " ' y_26',\n",
       " ' y_27',\n",
       " ' y_28',\n",
       " ' y_29',\n",
       " ' y_30',\n",
       " ' y_31',\n",
       " ' y_32',\n",
       " ' y_33',\n",
       " ' y_34',\n",
       " ' y_35',\n",
       " ' y_36',\n",
       " ' y_37',\n",
       " ' y_38',\n",
       " ' y_39',\n",
       " ' y_40',\n",
       " ' y_41',\n",
       " ' y_42',\n",
       " ' y_43',\n",
       " ' y_44',\n",
       " ' y_45',\n",
       " ' y_46',\n",
       " ' y_47',\n",
       " ' y_48',\n",
       " ' y_49',\n",
       " ' y_50',\n",
       " ' y_51',\n",
       " ' y_52',\n",
       " ' y_53',\n",
       " ' y_54',\n",
       " ' y_55',\n",
       " ' y_56',\n",
       " ' y_57',\n",
       " ' y_58',\n",
       " ' y_59',\n",
       " ' y_60',\n",
       " ' y_61',\n",
       " ' y_62',\n",
       " ' y_63',\n",
       " ' y_64',\n",
       " ' y_65',\n",
       " ' y_66',\n",
       " ' y_67',\n",
       " ' X_0',\n",
       " ' X_1',\n",
       " ' X_2',\n",
       " ' X_3',\n",
       " ' X_4',\n",
       " ' X_5',\n",
       " ' X_6',\n",
       " ' X_7',\n",
       " ' X_8',\n",
       " ' X_9',\n",
       " ' X_10',\n",
       " ' X_11',\n",
       " ' X_12',\n",
       " ' X_13',\n",
       " ' X_14',\n",
       " ' X_15',\n",
       " ' X_16',\n",
       " ' X_17',\n",
       " ' X_18',\n",
       " ' X_19',\n",
       " ' X_20',\n",
       " ' X_21',\n",
       " ' X_22',\n",
       " ' X_23',\n",
       " ' X_24',\n",
       " ' X_25',\n",
       " ' X_26',\n",
       " ' X_27',\n",
       " ' X_28',\n",
       " ' X_29',\n",
       " ' X_30',\n",
       " ' X_31',\n",
       " ' X_32',\n",
       " ' X_33',\n",
       " ' X_34',\n",
       " ' X_35',\n",
       " ' X_36',\n",
       " ' X_37',\n",
       " ' X_38',\n",
       " ' X_39',\n",
       " ' X_40',\n",
       " ' X_41',\n",
       " ' X_42',\n",
       " ' X_43',\n",
       " ' X_44',\n",
       " ' X_45',\n",
       " ' X_46',\n",
       " ' X_47',\n",
       " ' X_48',\n",
       " ' X_49',\n",
       " ' X_50',\n",
       " ' X_51',\n",
       " ' X_52',\n",
       " ' X_53',\n",
       " ' X_54',\n",
       " ' X_55',\n",
       " ' X_56',\n",
       " ' X_57',\n",
       " ' X_58',\n",
       " ' X_59',\n",
       " ' X_60',\n",
       " ' X_61',\n",
       " ' X_62',\n",
       " ' X_63',\n",
       " ' X_64',\n",
       " ' X_65',\n",
       " ' X_66',\n",
       " ' X_67',\n",
       " ' Y_0',\n",
       " ' Y_1',\n",
       " ' Y_2',\n",
       " ' Y_3',\n",
       " ' Y_4',\n",
       " ' Y_5',\n",
       " ' Y_6',\n",
       " ' Y_7',\n",
       " ' Y_8',\n",
       " ' Y_9',\n",
       " ' Y_10',\n",
       " ' Y_11',\n",
       " ' Y_12',\n",
       " ' Y_13',\n",
       " ' Y_14',\n",
       " ' Y_15',\n",
       " ' Y_16',\n",
       " ' Y_17',\n",
       " ' Y_18',\n",
       " ' Y_19',\n",
       " ' Y_20',\n",
       " ' Y_21',\n",
       " ' Y_22',\n",
       " ' Y_23',\n",
       " ' Y_24',\n",
       " ' Y_25',\n",
       " ' Y_26',\n",
       " ' Y_27',\n",
       " ' Y_28',\n",
       " ' Y_29',\n",
       " ' Y_30',\n",
       " ' Y_31',\n",
       " ' Y_32',\n",
       " ' Y_33',\n",
       " ' Y_34',\n",
       " ' Y_35',\n",
       " ' Y_36',\n",
       " ' Y_37',\n",
       " ' Y_38',\n",
       " ' Y_39',\n",
       " ' Y_40',\n",
       " ' Y_41',\n",
       " ' Y_42',\n",
       " ' Y_43',\n",
       " ' Y_44',\n",
       " ' Y_45',\n",
       " ' Y_46',\n",
       " ' Y_47',\n",
       " ' Y_48',\n",
       " ' Y_49',\n",
       " ' Y_50',\n",
       " ' Y_51',\n",
       " ' Y_52',\n",
       " ' Y_53',\n",
       " ' Y_54',\n",
       " ' Y_55',\n",
       " ' Y_56',\n",
       " ' Y_57',\n",
       " ' Y_58',\n",
       " ' Y_59',\n",
       " ' Y_60',\n",
       " ' Y_61',\n",
       " ' Y_62',\n",
       " ' Y_63',\n",
       " ' Y_64',\n",
       " ' Y_65',\n",
       " ' Y_66',\n",
       " ' Y_67',\n",
       " ' Z_0',\n",
       " ' Z_1',\n",
       " ' Z_2',\n",
       " ' Z_3',\n",
       " ' Z_4',\n",
       " ' Z_5',\n",
       " ' Z_6',\n",
       " ' Z_7',\n",
       " ' Z_8',\n",
       " ' Z_9',\n",
       " ' Z_10',\n",
       " ' Z_11',\n",
       " ' Z_12',\n",
       " ' Z_13',\n",
       " ' Z_14',\n",
       " ' Z_15',\n",
       " ' Z_16',\n",
       " ' Z_17',\n",
       " ' Z_18',\n",
       " ' Z_19',\n",
       " ' Z_20',\n",
       " ' Z_21',\n",
       " ' Z_22',\n",
       " ' Z_23',\n",
       " ' Z_24',\n",
       " ' Z_25',\n",
       " ' Z_26',\n",
       " ' Z_27',\n",
       " ' Z_28',\n",
       " ' Z_29',\n",
       " ' Z_30',\n",
       " ' Z_31',\n",
       " ' Z_32',\n",
       " ' Z_33',\n",
       " ' Z_34',\n",
       " ' Z_35',\n",
       " ' Z_36',\n",
       " ' Z_37',\n",
       " ' Z_38',\n",
       " ' Z_39',\n",
       " ' Z_40',\n",
       " ' Z_41',\n",
       " ' Z_42',\n",
       " ' Z_43',\n",
       " ' Z_44',\n",
       " ' Z_45',\n",
       " ' Z_46',\n",
       " ' Z_47',\n",
       " ' Z_48',\n",
       " ' Z_49',\n",
       " ' Z_50',\n",
       " ' Z_51',\n",
       " ' Z_52',\n",
       " ' Z_53',\n",
       " ' Z_54',\n",
       " ' Z_55',\n",
       " ' Z_56',\n",
       " ' Z_57',\n",
       " ' Z_58',\n",
       " ' Z_59',\n",
       " ' Z_60',\n",
       " ' Z_61',\n",
       " ' Z_62',\n",
       " ' Z_63',\n",
       " ' Z_64',\n",
       " ' Z_65',\n",
       " ' Z_66',\n",
       " ' Z_67',\n",
       " ' p_scale',\n",
       " ' p_rx',\n",
       " ' p_ry',\n",
       " ' p_rz',\n",
       " ' p_tx',\n",
       " ' p_ty',\n",
       " ' p_0',\n",
       " ' p_1',\n",
       " ' p_2',\n",
       " ' p_3',\n",
       " ' p_4',\n",
       " ' p_5',\n",
       " ' p_6',\n",
       " ' p_7',\n",
       " ' p_8',\n",
       " ' p_9',\n",
       " ' p_10',\n",
       " ' p_11',\n",
       " ' p_12',\n",
       " ' p_13',\n",
       " ' p_14',\n",
       " ' p_15',\n",
       " ' p_16',\n",
       " ' p_17',\n",
       " ' p_18',\n",
       " ' p_19',\n",
       " ' p_20',\n",
       " ' p_21',\n",
       " ' p_22',\n",
       " ' p_23',\n",
       " ' p_24',\n",
       " ' p_25',\n",
       " ' p_26',\n",
       " ' p_27',\n",
       " ' p_28',\n",
       " ' p_29',\n",
       " ' p_30',\n",
       " ' p_31',\n",
       " ' p_32',\n",
       " ' p_33',\n",
       " ' AU01_r',\n",
       " ' AU02_r',\n",
       " ' AU04_r',\n",
       " ' AU05_r',\n",
       " ' AU06_r',\n",
       " ' AU07_r',\n",
       " ' AU09_r',\n",
       " ' AU10_r',\n",
       " ' AU12_r',\n",
       " ' AU14_r',\n",
       " ' AU15_r',\n",
       " ' AU17_r',\n",
       " ' AU20_r',\n",
       " ' AU23_r',\n",
       " ' AU25_r',\n",
       " ' AU26_r',\n",
       " ' AU45_r',\n",
       " ' AU01_c',\n",
       " ' AU02_c',\n",
       " ' AU04_c',\n",
       " ' AU05_c',\n",
       " ' AU06_c',\n",
       " ' AU07_c',\n",
       " ' AU09_c',\n",
       " ' AU10_c',\n",
       " ' AU12_c',\n",
       " ' AU14_c',\n",
       " ' AU15_c',\n",
       " ' AU17_c',\n",
       " ' AU20_c',\n",
       " ' AU23_c',\n",
       " ' AU25_c',\n",
       " ' AU26_c',\n",
       " ' AU28_c',\n",
       " ' AU45_c']"
      ]
     },
     "execution_count": 221,
     "metadata": {},
     "output_type": "execute_result"
    }
   ],
   "source": [
    "dropped_X = X.drop([X.columns[[1, 69]]], axis=1)"
   ]
  },
  {
   "cell_type": "code",
   "execution_count": null,
   "metadata": {},
   "outputs": [],
   "source": []
  }
 ],
 "metadata": {
  "kernelspec": {
   "display_name": "Python 3",
   "language": "python",
   "name": "python3"
  },
  "language_info": {
   "codemirror_mode": {
    "name": "ipython",
    "version": 3
   },
   "file_extension": ".py",
   "mimetype": "text/x-python",
   "name": "python",
   "nbconvert_exporter": "python",
   "pygments_lexer": "ipython3",
   "version": "3.6.4"
  }
 },
 "nbformat": 4,
 "nbformat_minor": 2
}
